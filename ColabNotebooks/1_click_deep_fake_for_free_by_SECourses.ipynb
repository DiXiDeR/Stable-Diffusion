{
  "cells": [
    {
      "cell_type": "markdown",
      "metadata": {
        "colab_type": "text",
        "id": "view-in-github"
      },
      "source": [
        "<a href=\"https://colab.research.google.com/github/FurkanGozukara/Stable-Diffusion/blob/main/ColabNotebooks/1_click_deep_fake_for_free_by_SECourses.ipynb\" target=\"_parent\"><img src=\"https://colab.research.google.com/assets/colab-badge.svg\" alt=\"Open In Colab\"/></a>"
      ]
    },
    {
      "cell_type": "markdown",
      "metadata": {
        "id": "G9BdiCppV6AS"
      },
      "source": [
        "## Updated 20 August 2024 Working\n",
        "## Rope is better and more advanced than Roop\n",
        "## Better APP Rope Cloud : https://youtu.be/HLWLSszHwEc\n",
        "## Better APP Rope Windows : https://youtu.be/RdWKOUlenaY\n",
        "## 1-Click Installer for Roop Windows : https://www.patreon.com/posts/1-click-auto-88234834\n",
        "## 1-Click Installer for Roop RunPod : https://www.patreon.com/posts/auto-installer-84511510\n"
      ]
    },
    {
      "cell_type": "markdown",
      "metadata": {
        "id": "ni6edG-8MUNg"
      },
      "source": [
        "**If you want to use the latest version remove `!git checkout 312208a41102ba86d2454ae8efc9d3f0b786a6e7`**"
      ]
    },
    {
      "cell_type": "code",
      "execution_count": 1,
      "metadata": {
        "id": "t1yPuhdySqCq"
      },
      "outputs": [
        {
          "name": "stdout",
          "output_type": "stream",
          "text": [
            "c:\\Users\\svobo\\Documents\\GitHub\\Stable-Diffusion\\ColabNotebooks\\roop\n"
          ]
        },
        {
          "name": "stderr",
          "output_type": "stream",
          "text": [
            "Cloning into 'roop'...\n",
            "C:\\Users\\svobo\\AppData\\Roaming\\Python\\Python312\\site-packages\\IPython\\core\\magics\\osm.py:417: UserWarning: This is now an optional IPython functionality, setting dhist requires you to install the `pickleshare` library.\n",
            "  self.shell.db['dhist'] = compress_dhist(dhist)[-100:]\n"
          ]
        },
        {
          "name": "stdout",
          "output_type": "stream",
          "text": [
            "^C\n",
            "Requirement already satisfied: onnxruntime-gpu==1.18.0 in c:\\users\\svobo\\appdata\\local\\programs\\python\\python310\\lib\\site-packages (1.18.0)\n",
            "Requirement already satisfied: coloredlogs in c:\\users\\svobo\\appdata\\local\\programs\\python\\python310\\lib\\site-packages (from onnxruntime-gpu==1.18.0) (15.0.1)\n",
            "Requirement already satisfied: flatbuffers in c:\\users\\svobo\\appdata\\local\\programs\\python\\python310\\lib\\site-packages (from onnxruntime-gpu==1.18.0) (24.3.25)\n",
            "Requirement already satisfied: numpy>=1.21.6 in c:\\users\\svobo\\appdata\\local\\programs\\python\\python310\\lib\\site-packages (from onnxruntime-gpu==1.18.0) (1.26.4)\n",
            "Requirement already satisfied: packaging in c:\\users\\svobo\\appdata\\local\\programs\\python\\python310\\lib\\site-packages (from onnxruntime-gpu==1.18.0) (24.1)\n",
            "Requirement already satisfied: protobuf in c:\\users\\svobo\\appdata\\local\\programs\\python\\python310\\lib\\site-packages (from onnxruntime-gpu==1.18.0) (5.27.3)\n",
            "Requirement already satisfied: sympy in c:\\users\\svobo\\appdata\\local\\programs\\python\\python310\\lib\\site-packages (from onnxruntime-gpu==1.18.0) (1.13.1)\n",
            "Requirement already satisfied: humanfriendly>=9.1 in c:\\users\\svobo\\appdata\\local\\programs\\python\\python310\\lib\\site-packages (from coloredlogs->onnxruntime-gpu==1.18.0) (10.0)\n",
            "Requirement already satisfied: mpmath<1.4,>=1.1.0 in c:\\users\\svobo\\appdata\\local\\programs\\python\\python310\\lib\\site-packages (from sympy->onnxruntime-gpu==1.18.0) (1.3.0)\n",
            "Requirement already satisfied: pyreadline3 in c:\\users\\svobo\\appdata\\local\\programs\\python\\python310\\lib\\site-packages (from humanfriendly>=9.1->coloredlogs->onnxruntime-gpu==1.18.0) (3.4.1)\n"
          ]
        },
        {
          "name": "stderr",
          "output_type": "stream",
          "text": [
            "'apt-get' is not recognized as an internal or external command,\n",
            "operable program or batch file.\n",
            "'apt' is not recognized as an internal or external command,\n",
            "operable program or batch file.\n"
          ]
        }
      ],
      "source": [
        "%git clone https://github.com/FurkanGozukara/roop\n",
        "%cd roop\n",
        "#Tested and updated 23 August 2023 commit\n",
        "#!git checkout da1ef285f1d43bd0cc8b9cdb9a0f80f7ae793a97\n",
        "%pip install onnxruntime-gpu==1.18.0 && pip install -r requirements.txt\n",
        "%pip install onnxruntime-gpu==1.18.0 --upgrade\n",
        "%apt-get update --yes\n",
        "%apt install nvidia-cuda-toolkit --yes\n",
        "%pip install opennsfw2 keras --upgrade"
      ]
    },
    {
      "cell_type": "markdown",
      "metadata": {
        "id": "Jul-_i9xMmV2"
      },
      "source": [
        "**You will see processing message at the end of below printed messages e.g. Processing:  43% 136/318 00:38<00:24, 7.47frame/s**\n",
        "\n",
        "**Make sure to upload root roop folder not inside the sub roop folder and don't forget to change image and video file names**\n",
        "\n",
        "**1 is best quality big video size, 100 worst quality low video size**"
      ]
    },
    {
      "cell_type": "code",
      "execution_count": 4,
      "metadata": {
        "id": "Is6U2huqSzLE"
      },
      "outputs": [
        {
          "name": "stdout",
          "output_type": "stream",
          "text": [
            "[WinError 3] Systém nemůže nalézt uvedenou cestu: '/content/roop'\n",
            "c:\\Users\\svobo\\Documents\\GitHub\\Stable-Diffusion\\ColabNotebooks\n"
          ]
        },
        {
          "name": "stderr",
          "output_type": "stream",
          "text": [
            "python: can't open file 'c:\\\\Users\\\\svobo\\\\Documents\\\\GitHub\\\\Stable-Diffusion\\\\ColabNotebooks\\\\run.py': [Errno 2] No such file or directory\n"
          ]
        }
      ],
      "source": [
        "%cd \"/content/roop\"\n",
        "!python run.py -s \"face.png\" -t \"video.mp4\" -o \"face_changed_video_v2.mp4\" --keep-frames --keep-fps --temp-frame-quality 1 --output-video-quality 1 --execution-provider cuda"
      ]
    },
    {
      "cell_type": "markdown",
      "metadata": {
        "id": "VJpNWHq1qdjT"
      },
      "source": [
        "**Below code will do also face restoration to improve quality significantly but it will take longer**"
      ]
    },
    {
      "cell_type": "code",
      "execution_count": 3,
      "metadata": {
        "id": "_j18G_uPqc37"
      },
      "outputs": [
        {
          "name": "stdout",
          "output_type": "stream",
          "text": [
            "[WinError 3] Systém nemůže nalézt uvedenou cestu: '/content/roop'\n",
            "c:\\Users\\svobo\\Documents\\GitHub\\Stable-Diffusion\\ColabNotebooks\n"
          ]
        },
        {
          "name": "stderr",
          "output_type": "stream",
          "text": [
            "C:\\Users\\svobo\\AppData\\Roaming\\Python\\Python312\\site-packages\\IPython\\core\\magics\\osm.py:393: UserWarning: This is now an optional IPython functionality, using bookmarks requires you to install the `pickleshare` library.\n",
            "  bkms = self.shell.db.get('bookmarks', {})\n",
            "python: can't open file 'c:\\\\Users\\\\svobo\\\\Documents\\\\GitHub\\\\Stable-Diffusion\\\\ColabNotebooks\\\\run.py': [Errno 2] No such file or directory\n"
          ]
        }
      ],
      "source": [
        "%cd \"/content/roop\"\n",
        "!python run.py -s \"face2.png\" -t \"video3.mp4\" -o \"face_restored_video3.mp4\" --keep-frames --keep-fps --temp-frame-quality 1 --output-video-quality 1 --execution-provider cuda --frame-processor face_swapper face_enhancer"
      ]
    },
    {
      "cell_type": "markdown",
      "metadata": {
        "id": "jr-63BTn8UEs"
      },
      "source": [
        "### All options are displayed below\n",
        "Append any of them to the above commands before executing\n",
        "```\n",
        "python run.py [options]\n",
        "\n",
        "-h, --help                                                                 show this help message and exit\n",
        "-s SOURCE_PATH, --source SOURCE_PATH                                       select an source image\n",
        "-t TARGET_PATH, --target TARGET_PATH                                       select an target image or video\n",
        "-o OUTPUT_PATH, --output OUTPUT_PATH                                       select output file or directory\n",
        "--frame-processor FRAME_PROCESSOR [FRAME_PROCESSOR ...]                    frame processors (choices: face_swapper, face_enhancer, ...)\n",
        "--keep-fps                                                                 keep target fps\n",
        "--keep-frames                                                              keep temporary frames\n",
        "--skip-audio                                                               skip target audio\n",
        "--many-faces                                                               process every face\n",
        "--reference-face-position REFERENCE_FACE_POSITION                          position of the reference face\n",
        "--reference-frame-number REFERENCE_FRAME_NUMBER                            number of the reference frame\n",
        "--similar-face-distance SIMILAR_FACE_DISTANCE                              face distance used for recognition\n",
        "--temp-frame-format {jpg,png}                                              image format used for frame extraction\n",
        "--temp-frame-quality [0-100]                                               image quality used for frame extraction\n",
        "--output-video-encoder {libx264,libx265,libvpx-vp9,h264_nvenc,hevc_nvenc}  encoder used for the output video\n",
        "--output-video-quality [0-100]                                             quality used for the output video\n",
        "--max-memory MAX_MEMORY                                                    maximum amount of RAM in GB\n",
        "--execution-provider {cpu} [{cpu} ...]                                     available execution provider (choices: cpu, ...)\n",
        "--execution-threads EXECUTION_THREADS                                      number of execution threads\n",
        "-v, --version                                                              show program's version number and exit\n",
        "  ```"
      ]
    },
    {
      "cell_type": "markdown",
      "metadata": {
        "id": "UdQ1VHdI8lCf"
      },
      "source": [
        "### Download generated images folder"
      ]
    },
    {
      "cell_type": "code",
      "execution_count": 2,
      "metadata": {
        "colab": {
          "base_uri": "https://localhost:8080/",
          "height": 17
        },
        "id": "oYjWveAmw10X",
        "outputId": "a8b591fe-7c43-4a72-a7b9-f4111aa62e2a"
      },
      "outputs": [
        {
          "ename": "ModuleNotFoundError",
          "evalue": "No module named 'google'",
          "output_type": "error",
          "traceback": [
            "\u001b[1;31m---------------------------------------------------------------------------\u001b[0m",
            "\u001b[1;31mModuleNotFoundError\u001b[0m                       Traceback (most recent call last)",
            "Cell \u001b[1;32mIn[2], line 3\u001b[0m\n\u001b[0;32m      1\u001b[0m \u001b[38;5;28;01mimport\u001b[39;00m \u001b[38;5;21;01mshutil\u001b[39;00m\n\u001b[0;32m      2\u001b[0m \u001b[38;5;28;01mimport\u001b[39;00m \u001b[38;5;21;01mos\u001b[39;00m\n\u001b[1;32m----> 3\u001b[0m \u001b[38;5;28;01mfrom\u001b[39;00m \u001b[38;5;21;01mgoogle\u001b[39;00m\u001b[38;5;21;01m.\u001b[39;00m\u001b[38;5;21;01mcolab\u001b[39;00m \u001b[38;5;28;01mimport\u001b[39;00m files \u001b[38;5;66;03m# type: ignore\u001b[39;00m\n\u001b[0;32m      5\u001b[0m \u001b[38;5;28;01mdef\u001b[39;00m \u001b[38;5;21mzip_directory\u001b[39m(directory_path, zip_path):\n\u001b[0;32m      6\u001b[0m     shutil\u001b[38;5;241m.\u001b[39mmake_archive(zip_path, \u001b[38;5;124m'\u001b[39m\u001b[38;5;124mzip\u001b[39m\u001b[38;5;124m'\u001b[39m, directory_path)\n",
            "\u001b[1;31mModuleNotFoundError\u001b[0m: No module named 'google'"
          ]
        }
      ],
      "source": [
        "import shutil\n",
        "import os\n",
        "from google.colab import files # type: ignore\n",
        "\n",
        "def zip_directory(directory_path, zip_path):\n",
        "    shutil.make_archive(zip_path, 'zip', directory_path)\n",
        "\n",
        "# Set the directory path you want to download\n",
        "directory_path = '/content/roop/video3'\n",
        "\n",
        "# Set the zip file name\n",
        "zip_filename = 'video3.zip'\n",
        "\n",
        "# Zip the directory\n",
        "zip_directory(directory_path, zip_filename)\n",
        "\n",
        "# Download the zip file\n",
        "files.download(zip_filename+'.zip')\n"
      ]
    },
    {
      "cell_type": "markdown",
      "metadata": {
        "id": "Q_agL2FE0fJP"
      },
      "source": [
        "# below is last working pip freeze of libraries 6 June 2024"
      ]
    },
    {
      "cell_type": "code",
      "execution_count": 1,
      "metadata": {
        "colab": {
          "base_uri": "https://localhost:8080/"
        },
        "id": "sa3pcyqo0b8f",
        "outputId": "83d6733c-fd08-421a-81fe-f1349f52c3a7"
      },
      "outputs": [
        {
          "name": "stdout",
          "output_type": "stream",
          "text": [
            "absl-py==2.1.0\n",
            "accelerate==0.33.0\n",
            "addict==2.4.0\n",
            "aenum==3.1.15\n",
            "aiofiles==23.2.1\n",
            "aiohttp==3.9.5\n",
            "aiosignal==1.3.1\n",
            "albucore==0.0.12\n",
            "albumentations==1.4.12\n",
            "altair==5.3.0\n",
            "annotated-types==0.7.0\n",
            "antlr4-python3-runtime==4.9.3\n",
            "anyio==3.7.1\n",
            "async-timeout==4.0.3\n",
            "attrs==23.2.0\n",
            "bash==0.6\n",
            "beautifulsoup4==4.12.3\n",
            "blend_modes==2.1.0\n",
            "blendmodes==2022\n",
            "build==1.2.1\n",
            "cachetools==5.4.0\n",
            "certifi==2024.7.4\n",
            "cffi==1.17.0\n",
            "chardet==5.2.0\n",
            "charset-normalizer==3.3.2\n",
            "clean-fid==0.1.35\n",
            "click==8.1.7\n",
            "click-didyoumean==0.3.1\n",
            "colorama==0.4.6\n",
            "coloredlogs==15.0.1\n",
            "colorlog==6.8.2\n",
            "comfy-cli==1.0.35\n",
            "contourpy==1.2.1\n",
            "cryptography==43.0.0\n",
            "cssselect2==0.7.0\n",
            "cycler==0.12.1\n",
            "Cython==3.0.10\n",
            "Deprecated==1.2.14\n",
            "deprecation==2.1.0\n",
            "-e git+https://github.com/huggingface/diffusers.git@4cfb2164fb05d54dd594373b4bd1fbb101fef70c#egg=diffusers\n",
            "dill==0.3.8\n",
            "diskcache==5.6.3\n",
            "dnspython==2.6.1\n",
            "docker==7.1.0\n",
            "easydict==1.13\n",
            "einops==0.8.0\n",
            "email_validator==2.2.0\n",
            "eval_type_backport==0.2.0\n",
            "exceptiongroup==1.2.2\n",
            "facexlib==0.3.0\n",
            "fastapi==0.111.0\n",
            "fastapi-cli==0.0.4\n",
            "ffmpy==0.3.2\n",
            "filelock==3.15.4\n",
            "filterpy==1.4.5\n",
            "flatbuffers==24.3.25\n",
            "fonttools==4.53.1\n",
            "frozenlist==1.4.1\n",
            "fsspec==2024.6.1\n",
            "ftfy==6.2.0\n",
            "fvcore==0.1.5.post20221221\n",
            "gitdb==4.0.11\n",
            "GitPython==3.1.32\n",
            "glitch_this==1.0.3\n",
            "gradio==4.42.0\n",
            "gradio_client==1.3.0\n",
            "h11==0.12.0\n",
            "h5py==3.11.0\n",
            "httpcore==0.15.0\n",
            "httptools==0.6.1\n",
            "httpx==0.24.1\n",
            "huggingface-hub==0.24.2\n",
            "humanfriendly==10.0\n",
            "idna==3.7\n",
            "imageio==2.34.2\n",
            "importlib_metadata==8.2.0\n",
            "importlib_resources==6.4.0\n",
            "inflection==0.5.1\n",
            "iniconfig==2.0.0\n",
            "insightface==0.7.3\n",
            "iopath==0.1.10\n",
            "jax==0.4.31\n",
            "jaxlib==0.4.31\n",
            "Jinja2==3.1.4\n",
            "joblib==1.4.2\n",
            "jsonmerge==1.8.0\n",
            "jsonschema==4.23.0\n",
            "jsonschema-specifications==2023.12.1\n",
            "keras==3.5.0\n",
            "kiwisolver==1.4.5\n",
            "kornia==0.7.3\n",
            "kornia_rs==0.1.5\n",
            "lark==1.1.2\n",
            "lazy_loader==0.4\n",
            "lightning-utilities==0.11.6\n",
            "llvmlite==0.43.0\n",
            "lxml==5.2.2\n",
            "Mako==1.3.5\n",
            "manifold3d==2.5.1\n",
            "markdown-it-py==3.0.0\n",
            "MarkupSafe==2.1.5\n",
            "matplotlib==3.8.0\n",
            "matrix-client==0.4.0\n",
            "mdurl==0.1.2\n",
            "mediapipe==0.10.14\n",
            "mixpanel==4.10.1\n",
            "ml-dtypes==0.4.0\n",
            "mpmath==1.3.0\n",
            "multidict==6.0.5\n",
            "namex==0.0.8\n",
            "networkx==3.3\n",
            "npm==0.1.1\n",
            "numba==0.60.0\n",
            "numpy==1.26.4\n",
            "nvidia-cuda-runtime-cu12==12.6.37\n",
            "omegaconf==2.2.3\n",
            "onnx==1.16.1\n",
            "onnx-graphsurgeon==0.5.2\n",
            "onnxruntime==1.12.1\n",
            "onnxruntime-gpu==1.18.0\n",
            "open-clip-torch==2.20.0\n",
            "opencv-contrib-python==4.10.0.84\n",
            "opencv-python==4.10.0.84\n",
            "opencv-python-headless==4.10.0.84\n",
            "opt-einsum==3.3.0\n",
            "optional-django==0.1.0\n",
            "optree==0.12.1\n",
            "orjson==3.10.6\n",
            "p==1.4.0\n",
            "packaging==24.1\n",
            "pandas==2.2.2\n",
            "pathspec==0.12.1\n",
            "piexif==1.1.3\n",
            "pilgram==1.2.1\n",
            "Pillow==9.5.0\n",
            "pillow-avif-plugin==1.4.3\n",
            "pip-tools==7.4.1\n",
            "pixelsort==1.0.1\n",
            "platformdirs==4.2.2\n",
            "pluggy==1.5.0\n",
            "pooch==1.8.2\n",
            "portalocker==2.10.1\n",
            "prettytable==3.10.2\n",
            "prompt-toolkit==3.0.36\n",
            "protobuf==5.27.3\n",
            "psutil==5.9.5\n",
            "pur==7.3.2\n",
            "py-cpuinfo==9.0.0\n",
            "pycollada==0.8\n",
            "pycparser==2.22\n",
            "pycuda==2024.1.2\n",
            "pydantic==2.8.2\n",
            "pydantic-settings==2.4.0\n",
            "pydantic_core==2.20.1\n",
            "pydub==0.25.1\n",
            "pygame==2.6.0\n",
            "pygit2==1.15.1\n",
            "PyGithub==2.3.0\n",
            "Pygments==2.18.0\n",
            "PyJWT==2.9.0\n",
            "PyMatting==1.1.12\n",
            "PyNaCl==1.5.0\n",
            "pyparsing==3.1.2\n",
            "pyproject_hooks==1.1.0\n",
            "pyreadline3==3.4.1\n",
            "PySocks==1.7.1\n",
            "pytest==8.3.2\n",
            "python-dateutil==2.9.0.post0\n",
            "python-dotenv==1.0.1\n",
            "python-multipart==0.0.9\n",
            "pytools==2024.1.13\n",
            "pytorch-lightning==1.9.4\n",
            "pytz==2024.1\n",
            "PyWavelets==1.6.0\n",
            "pywin32==306\n",
            "PyYAML==6.0.1\n",
            "questionary==2.0.1\n",
            "referencing==0.35.1\n",
            "regex==2024.7.24\n",
            "rembg==2.0.59\n",
            "reportlab==4.2.2\n",
            "requests==2.32.3\n",
            "resize-right==0.0.2\n",
            "rich==13.7.1\n",
            "rpds-py==0.19.1\n",
            "Rtree==1.3.0\n",
            "ruff==0.6.2\n",
            "safetensors==0.4.2\n",
            "scikit-image==0.21.0\n",
            "scikit-learn==1.5.1\n",
            "scipy==1.14.0\n",
            "seaborn==0.13.2\n",
            "segment-anything==1.0\n",
            "semantic-version==2.10.0\n",
            "sentencepiece==0.2.0\n",
            "shapely==2.0.5\n",
            "shellingham==1.5.4\n",
            "six==1.16.0\n",
            "smmap==5.0.1\n",
            "sniffio==1.3.1\n",
            "sounddevice==0.4.7\n",
            "soundfile==0.12.1\n",
            "soupsieve==2.6\n",
            "spandrel==0.3.4\n",
            "spandrel_extra_arches==0.1.1\n",
            "starlette==0.37.2\n",
            "style==1.1.0\n",
            "svg.path==6.3\n",
            "svglib==1.5.1\n",
            "sympy==1.13.1\n",
            "tabulate==0.9.0\n",
            "tensorrt==10.3.0\n",
            "tensorrt-cu12==10.3.0\n",
            "tensorrt-cu12_bindings==10.3.0\n",
            "tensorrt-cu12_libs==10.3.0\n",
            "termcolor==2.4.0\n",
            "tf2onnx==1.16.1\n",
            "threadpoolctl==3.5.0\n",
            "tifffile==2024.7.24\n",
            "timm==1.0.7\n",
            "tinycss2==1.3.0\n",
            "tokenizers==0.19.1\n",
            "tomesd==0.1.3\n",
            "tomli==2.0.1\n",
            "tomlkit==0.12.0\n",
            "toolz==0.12.1\n",
            "torch==2.4.0+cu124\n",
            "torchaudio==2.4.0+cu124\n",
            "torchdiffeq==0.2.3\n",
            "torchmetrics==1.4.0.post0\n",
            "torchsde==0.2.6\n",
            "torchvision==0.19.0+cu124\n",
            "tqdm==4.66.4\n",
            "trampoline==0.1.2\n",
            "transformers==4.44.0\n",
            "trimesh==4.4.3\n",
            "typer==0.12.3\n",
            "typing_extensions==4.12.2\n",
            "tzdata==2024.1\n",
            "ujson==5.10.0\n",
            "ultralytics==8.2.74\n",
            "ultralytics-thop==2.0.0\n",
            "update==0.0.1\n",
            "urllib3==2.2.2\n",
            "uvicorn==0.30.3\n",
            "vhacdx==0.0.8.post1\n",
            "watchfiles==0.22.0\n",
            "wcwidth==0.2.13\n",
            "webencodings==0.5.1\n",
            "websocket-client==1.8.0\n",
            "websockets==11.0.3\n",
            "wrapt==1.16.0\n",
            "xatlas==0.0.9\n",
            "xformers==0.0.27.post2\n",
            "xxhash==3.4.1\n",
            "yacs==0.1.8\n",
            "yapf==0.40.2\n",
            "yarl==1.9.4\n",
            "zipp==3.19.2\n"
          ]
        }
      ],
      "source": [
        "!pip freeze"
      ]
    }
  ],
  "metadata": {
    "accelerator": "GPU",
    "colab": {
      "gpuType": "T4",
      "include_colab_link": true,
      "provenance": []
    },
    "kernelspec": {
      "display_name": "Python 3",
      "name": "python3"
    },
    "language_info": {
      "codemirror_mode": {
        "name": "ipython",
        "version": 3
      },
      "file_extension": ".py",
      "mimetype": "text/x-python",
      "name": "python",
      "nbconvert_exporter": "python",
      "pygments_lexer": "ipython3",
      "version": "3.12.5"
    }
  },
  "nbformat": 4,
  "nbformat_minor": 0
}
